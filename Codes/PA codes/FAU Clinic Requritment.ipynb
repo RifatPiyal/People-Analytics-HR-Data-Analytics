{
 "cells": [
  {
   "cell_type": "code",
   "execution_count": 3,
   "metadata": {},
   "outputs": [
    {
     "name": "stderr",
     "output_type": "stream",
     "text": [
      "/Users/rehnuma/opt/miniconda3/envs/pa/lib/python3.9/site-packages/mlxtend/frequent_patterns/fpcommon.py:110: DeprecationWarning: DataFrames with non-bool types result in worse computationalperformance and their support might be discontinued in the future.Please use a DataFrame with bool type\n",
      "  warnings.warn(\n"
     ]
    },
    {
     "name": "stdout",
     "output_type": "stream",
     "text": [
      "                                            antecedents  \\\n",
      "980                   (professional, patience, empathy)   \n",
      "921                     (confidence, patience, empathy)   \n",
      "1032              (education_master, empathy, patience)   \n",
      "310                             (professional, empathy)   \n",
      "1684  (field_family nurse practitioner, confidence, ...   \n",
      "292                               (confidence, empathy)   \n",
      "1021               (experience_5-10, patience, empathy)   \n",
      "953   (field_family nurse practitioner, confidence, ...   \n",
      "387                         (education_master, empathy)   \n",
      "1043               (patience, empathy, education_other)   \n",
      "\n",
      "                  consequents  antecedent support  consequent support  \\\n",
      "980   (critical_care_nursing)            0.057333            0.097333   \n",
      "921   (critical_care_nursing)            0.062000            0.097333   \n",
      "1032  (critical_care_nursing)            0.087333            0.097333   \n",
      "310   (critical_care_nursing)            0.079333            0.097333   \n",
      "1684  (critical_care_nursing)            0.053333            0.097333   \n",
      "292   (critical_care_nursing)            0.080667            0.097333   \n",
      "1021  (critical_care_nursing)            0.107333            0.097333   \n",
      "953   (critical_care_nursing)            0.068000            0.097333   \n",
      "387   (critical_care_nursing)            0.129333            0.097333   \n",
      "1043  (critical_care_nursing)            0.067333            0.097333   \n",
      "\n",
      "       support  confidence      lift  leverage  conviction  zhangs_metric  \n",
      "980   0.025333    0.441860  4.539662  0.019753    1.617278       0.827142  \n",
      "921   0.025333    0.408602  4.197967  0.019299    1.526327       0.812142  \n",
      "1032  0.034000    0.389313  3.999791  0.025500    1.478117       0.821753  \n",
      "310   0.030000    0.378151  3.885116  0.022278    1.451586       0.806597  \n",
      "1684  0.020000    0.375000  3.852740  0.014809    1.444267       0.782160  \n",
      "292   0.028000    0.347107  3.566172  0.020148    1.382565       0.782727  \n",
      "1021  0.036000    0.335404  3.445929  0.025553    1.358218       0.795148  \n",
      "953   0.022667    0.333333  3.424658  0.016048    1.354000       0.759657  \n",
      "387   0.041333    0.319588  3.283435  0.028745    1.326646       0.798745  \n",
      "1043  0.021333    0.316832  3.255120  0.014780    1.321295       0.742807  \n"
     ]
    }
   ],
   "source": [
    "import pandas as pd\n",
    "import numpy as np\n",
    "from mlxtend.frequent_patterns import apriori, association_rules\n",
    "\n",
    "# Case 1\n",
    "\n",
    "data = pd.read_csv(\"fau_clinic_recruitment.csv\")\n",
    "\n",
    "\n",
    "relevant_data = data.drop(columns=['gender','location','hired','family_nurse','occupational_health_nursing','gerontological_nursing'])\n",
    "\n",
    "relevant_data['experience'] = pd.cut(relevant_data['experience'], bins=[0, 5, 10, 15, float('inf')], labels=['0-5', '5-10', '10-15', '15+'], right=False)\n",
    "\n",
    "# Convert the dataframe to one-hot-encoded data\n",
    "relevant_data_encoded = pd.get_dummies(relevant_data, columns=['experience', 'education','field'])\n",
    "\n",
    "# Apply apriori algorithm to find frequent itemsets with support >= 0.02\n",
    "frequent_itemsets = apriori(relevant_data_encoded, min_support=0.02, use_colnames=True)\n",
    "\n",
    "# Generate association rules\n",
    "rules = association_rules(frequent_itemsets, metric=\"confidence\", min_threshold=0.25)\n",
    "\n",
    "# Select rules where the consequent is 'critical_care_nursing'\n",
    "rules = rules[rules['consequents'] == {'critical_care_nursing'}]\n",
    "\n",
    "# sort the rules by lift\n",
    "rules = rules.sort_values(by=['lift'], ascending=False)\n",
    "\n",
    "# Print the top 10 rules\n",
    "print(rules.head(10))\n",
    "\n"
   ]
  },
  {
   "cell_type": "code",
   "execution_count": 2,
   "metadata": {},
   "outputs": [
    {
     "name": "stdout",
     "output_type": "stream",
     "text": [
      "Collecting mlxtend\n",
      "  Downloading mlxtend-0.22.0-py2.py3-none-any.whl (1.4 MB)\n",
      "\u001b[2K     \u001b[90m━━━━━━━━━━━━━━━━━━━━━━━━━━━━━━━━━━━━━━━━\u001b[0m \u001b[32m1.4/1.4 MB\u001b[0m \u001b[31m850.4 kB/s\u001b[0m eta \u001b[36m0:00:00\u001b[0m00:01\u001b[0m00:01\u001b[0m\n",
      "\u001b[?25hRequirement already satisfied: scipy>=1.2.1 in /Users/rehnuma/opt/miniconda3/envs/pa/lib/python3.9/site-packages (from mlxtend) (1.10.1)\n",
      "Requirement already satisfied: numpy>=1.16.2 in /Users/rehnuma/opt/miniconda3/envs/pa/lib/python3.9/site-packages (from mlxtend) (1.24.3)\n",
      "Requirement already satisfied: pandas>=0.24.2 in /Users/rehnuma/opt/miniconda3/envs/pa/lib/python3.9/site-packages (from mlxtend) (1.5.3)\n",
      "Requirement already satisfied: scikit-learn>=1.0.2 in /Users/rehnuma/opt/miniconda3/envs/pa/lib/python3.9/site-packages (from mlxtend) (1.2.2)\n",
      "Requirement already satisfied: matplotlib>=3.0.0 in /Users/rehnuma/opt/miniconda3/envs/pa/lib/python3.9/site-packages (from mlxtend) (3.7.1)\n",
      "Requirement already satisfied: joblib>=0.13.2 in /Users/rehnuma/opt/miniconda3/envs/pa/lib/python3.9/site-packages (from mlxtend) (1.2.0)\n",
      "Requirement already satisfied: setuptools in /Users/rehnuma/opt/miniconda3/envs/pa/lib/python3.9/site-packages (from mlxtend) (68.0.0)\n",
      "Requirement already satisfied: contourpy>=1.0.1 in /Users/rehnuma/opt/miniconda3/envs/pa/lib/python3.9/site-packages (from matplotlib>=3.0.0->mlxtend) (1.0.5)\n",
      "Requirement already satisfied: cycler>=0.10 in /Users/rehnuma/opt/miniconda3/envs/pa/lib/python3.9/site-packages (from matplotlib>=3.0.0->mlxtend) (0.11.0)\n",
      "Requirement already satisfied: fonttools>=4.22.0 in /Users/rehnuma/opt/miniconda3/envs/pa/lib/python3.9/site-packages (from matplotlib>=3.0.0->mlxtend) (4.25.0)\n",
      "Requirement already satisfied: kiwisolver>=1.0.1 in /Users/rehnuma/opt/miniconda3/envs/pa/lib/python3.9/site-packages (from matplotlib>=3.0.0->mlxtend) (1.4.4)\n",
      "Requirement already satisfied: packaging>=20.0 in /Users/rehnuma/opt/miniconda3/envs/pa/lib/python3.9/site-packages (from matplotlib>=3.0.0->mlxtend) (23.0)\n",
      "Requirement already satisfied: pillow>=6.2.0 in /Users/rehnuma/opt/miniconda3/envs/pa/lib/python3.9/site-packages (from matplotlib>=3.0.0->mlxtend) (9.4.0)\n",
      "Requirement already satisfied: pyparsing>=2.3.1 in /Users/rehnuma/opt/miniconda3/envs/pa/lib/python3.9/site-packages (from matplotlib>=3.0.0->mlxtend) (3.0.9)\n",
      "Requirement already satisfied: python-dateutil>=2.7 in /Users/rehnuma/opt/miniconda3/envs/pa/lib/python3.9/site-packages (from matplotlib>=3.0.0->mlxtend) (2.8.2)\n",
      "Requirement already satisfied: importlib-resources>=3.2.0 in /Users/rehnuma/opt/miniconda3/envs/pa/lib/python3.9/site-packages (from matplotlib>=3.0.0->mlxtend) (5.2.0)\n",
      "Requirement already satisfied: pytz>=2020.1 in /Users/rehnuma/opt/miniconda3/envs/pa/lib/python3.9/site-packages (from pandas>=0.24.2->mlxtend) (2022.7)\n",
      "Requirement already satisfied: threadpoolctl>=2.0.0 in /Users/rehnuma/opt/miniconda3/envs/pa/lib/python3.9/site-packages (from scikit-learn>=1.0.2->mlxtend) (2.2.0)\n",
      "Requirement already satisfied: zipp>=3.1.0 in /Users/rehnuma/opt/miniconda3/envs/pa/lib/python3.9/site-packages (from importlib-resources>=3.2.0->matplotlib>=3.0.0->mlxtend) (3.11.0)\n",
      "Requirement already satisfied: six>=1.5 in /Users/rehnuma/opt/miniconda3/envs/pa/lib/python3.9/site-packages (from python-dateutil>=2.7->matplotlib>=3.0.0->mlxtend) (1.16.0)\n",
      "Installing collected packages: mlxtend\n",
      "Successfully installed mlxtend-0.22.0\n"
     ]
    }
   ],
   "source": [
    "!pip install mlxtend\n"
   ]
  }
 ],
 "metadata": {
  "kernelspec": {
   "display_name": "pa",
   "language": "python",
   "name": "python3"
  },
  "language_info": {
   "codemirror_mode": {
    "name": "ipython",
    "version": 3
   },
   "file_extension": ".py",
   "mimetype": "text/x-python",
   "name": "python",
   "nbconvert_exporter": "python",
   "pygments_lexer": "ipython3",
   "version": "3.9.0"
  },
  "orig_nbformat": 4
 },
 "nbformat": 4,
 "nbformat_minor": 2
}
